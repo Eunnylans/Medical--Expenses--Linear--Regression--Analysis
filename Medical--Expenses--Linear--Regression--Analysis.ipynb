{
 "cells": [
  {
   "cell_type": "markdown",
   "metadata": {},
   "source": [
    "<h1 style=\"font-size:40px; background-color:darkorange;color:white;font-weight:800;padding:12px;border-radius:8px;text-align:center\">Predicting Medical Expenses Linear Regression Analysis </h1>\n",
    "\n",
    "------------------------------------------------------------------------------------------\n",
    "<div style=\"background-color:darkorange; color:white; padding:12px;border-radius:8px; font-size:20px; font-weight:bold\">\n",
    "<h3 style=\"font-size:20px; font-weight:bold\"> About Dataset</h3>\n",
    "\n",
    "**Introduction:**\n",
    "\n",
    "This dataset provides insights into factors influencing customer charges. Each record represents a customer with various attributes. The goal is to predict the value of the \"charges\" column based on these attributes, such as age, sex, BMI, number of children, smoking habits, and region.\n",
    "\n",
    "</div>\n",
    "\n",
    "------------------------------------------------------------------------------------------"
   ]
  },
  {
   "cell_type": "markdown",
   "metadata": {},
   "source": [
    "<div style=\"background-color:darkorange; color:white; padding:12px;border-radius:8px; font-size:20px; font-weight:bold\">\n",
    "Variables Description\n",
    "\n",
    "------------------------------------------------------------------------------------------\n",
    "\n",
    "Here’s an analysis of each variable (column) from the dataset:\n",
    "\n",
    "1. **age (numeric)**:  \n",
    "   - **Description**: Represents the age of the customer in years.\n",
    "   - **Example Values**: 19, 18, 28, 33, 50, etc.\n",
    "   - **Analysis**: Age is a key factor that could impact insurance charges. Older customers may have higher charges due to increased health risks.\n",
    "\n",
    "2. **sex (categorical)**:  \n",
    "   - **Description**: Represents the gender of the customer.\n",
    "   - **Categories**: \n",
    "     - male\n",
    "     - female\n",
    "   - **Example Values**: \"female\", \"male\".\n",
    "   - **Analysis**: Gender may play a role in healthcare costs, though this could vary depending on the region or the specific insurance policy.\n",
    "\n",
    "3. **bmi (numeric)**:  \n",
    "   - **Description**: Body Mass Index (BMI) of the customer, which is a measure of body fat based on height and weight.\n",
    "   - **Example Values**: 27.9, 33.77, 22.705, 36.85, etc.\n",
    "   - **Analysis**: BMI is an important factor in health insurance costs. Higher BMI values may be associated with higher charges due to increased health risks such as obesity, diabetes, or heart disease.\n",
    "\n",
    "4. **children (numeric)**:  \n",
    "   - **Description**: Number of children/dependents covered by the insurance plan.\n",
    "   - **Example Values**: 0, 1, 3, etc.\n",
    "   - **Analysis**: The number of children may affect insurance costs as plans with more dependents could have higher premiums or medical expenses.\n",
    "\n",
    "5. **smoker (categorical)**:  \n",
    "   - **Description**: Indicates whether the customer is a smoker.\n",
    "   - **Categories**: \n",
    "     - yes\n",
    "     - no\n",
    "   - **Example Values**: \"yes\", \"no\".\n",
    "   - **Analysis**: Smoking is strongly correlated with health risks, leading to significantly higher charges for smokers due to the potential for more severe health issues like lung disease, cancer, etc.\n",
    "\n",
    "6. **region (categorical)**:  \n",
    "   - **Description**: Geographic region where the customer resides.\n",
    "   - **Categories**: \n",
    "     - southwest\n",
    "     - southeast\n",
    "     - northwest\n",
    "     - northeast\n",
    "   - **Example Values**: \"southwest\", \"southeast\", \"northwest\", \"northeast\".\n",
    "   - **Analysis**: The region could influence healthcare costs due to differences in regional healthcare availability, cost of living, or state-level healthcare policies.\n",
    "\n",
    "7. **charges (numeric)**:  \n",
    "   - **Description**: The medical charges billed to the customer or their insurance provider.\n",
    "   - **Example Values**: 16884.92, 1725.55, 4449.46, 29141.36, etc.\n",
    "   - **Analysis**: This is the target variable we want to predict. It represents the total medical expenses incurred by the customer. Factors like age, BMI, smoking status, and region are likely to have a strong impact on this value.\n",
    "\n",
    "### General Insights:\n",
    "- **Age, BMI, and Smoking Habits** are likely to be the most influential factors affecting the **charges** due to their direct impact on health risks.\n",
    "- **Gender, Number of Children, and Region** may also contribute to variations in healthcare costs but possibly to a lesser extent than the other factors.\n",
    "\n",
    "</div>"
   ]
  },
  {
   "cell_type": "markdown",
   "metadata": {},
   "source": [
    "----------------------------\n",
    "<a id=\"contents_tabel\"></a>\n",
    "\n",
    "## Contents\n",
    "\n",
    "----------------------------\n",
    "\n",
    "<span style=\"font-size: 1.2em;line-height:1.3em\">\n",
    "    \n",
    "\n",
    "- **[1 : Introduction](#l)**\n",
    "- **[2 : Purpose](#2)**\n",
    "- **[3 : Import Libraries](#3)** \n",
    "- **[4 : Dataset Preparation](#4)** \n",
    "- **[5 : Exploratory Data Analysis EDA](#5)** \n",
    "    - **[5.1 : Univariate Analysis](#5.1)** \n",
    "    \n",
    "- **[8 : Conclusion](#8)** \n",
    "\n",
    "\n",
    "----------------------------"
   ]
  },
  {
   "cell_type": "markdown",
   "metadata": {},
   "source": [
    "<a id=\"1\"></a>\n",
    "# <p style=\"background-color:darkorange; color:white; font-family:calibri; font-size:130%; color:white; text-align:left; border-radius:8px; padding:10px\">1 : Question</p>\n",
    "\n",
    "How can ACME Insurance Inc. predict the annual medical expenditure for new customers based on their demographic and lifestyle information, and ensure that these predictions are transparent and explainable?\n",
    "\n",
    "⬆️ [Go to Contents](#contents_tabel)\n",
    "\n",
    "----------------------------"
   ]
  },
  {
   "cell_type": "markdown",
   "metadata": {},
   "source": [
    "<a id=\"1\"></a>\n",
    "# <p style=\"background-color:darkorange; color:white; font-family:calibri; font-size:130%; color:white; text-align:left; border-radius:8px; padding:10px\">2 : Introduction</p>\n",
    "\n",
    "ACME Insurance Inc. provides health insurance to customers across the United States, offering premiums based on individual risk factors. As the lead data scientist, you are tasked with creating a predictive system that estimates the annual medical expenses for new customers using factors such as age, sex, BMI, number of children, smoking habits, and region of residence. These estimates are crucial for determining the monthly insurance premiums offered to customers. The system must also comply with regulatory standards by being able to explain its predictions.\n",
    "\n",
    "⬆️ [Go to Contents](#contents_tabel)\n",
    "\n",
    "----------------------------"
   ]
  },
  {
   "cell_type": "markdown",
   "metadata": {},
   "source": [
    "<a id=\"1\"></a>\n",
    "# <p style=\"background-color:darkorange; color:white; font-family:calibri; font-size:130%; color:white; text-align:left; border-radius:8px; padding:10px\">3 : Purpose</p>\n",
    "\n",
    "The purpose of this project is to develop an automated, explainable system to estimate annual medical expenditures for ACME's new customers. This will allow ACME to tailor insurance premiums based on individual risk profiles, ensuring fair and accurate pricing, while maintaining transparency and regulatory compliance. The model will utilize customer attributes such as age, sex, BMI, smoking status, children, and region to predict medical charges.\n",
    "\n",
    "⬆️ [Go to Contents](#contents_tabel)\n",
    "\n",
    "----------------------------"
   ]
  },
  {
   "cell_type": "markdown",
   "metadata": {},
   "source": [
    "<a id=\"3\"></a>\n",
    "# <p style=\"background-color:darkorange; color:white; font-family:calibri; font-size:130%; color:white; text-align:left; border-radius:8px; padding:10px\">4 : Import Libraries</p>\n",
    "\n",
    "⬆️ [Go to Contents](#contents_tabel)\n",
    "\n",
    "----------------------------"
   ]
  },
  {
   "cell_type": "code",
   "execution_count": 2,
   "metadata": {},
   "outputs": [],
   "source": [
    "# Importing Libraries\n",
    "import pandas as pd\n",
    "import numpy as np\n",
    "import matplotlib.pyplot as plt\n",
    "import seaborn as sns\n",
    "%matplotlib inline\n",
    "sns.set_style('darkgrid')\n",
    "import plotly.express as px\n",
    "import plotly.graph_objects as go\n",
    "import plotly.subplots as sp\n",
    "from sklearn.model_selection import train_test_split, cross_val_score\n",
    "from sklearn.preprocessing import StandardScaler, PowerTransformer\n",
    "from sklearn.ensemble import RandomForestClassifier\n",
    "from sklearn.metrics import accuracy_score, classification_report, confusion_matrix\n",
    "from scipy.stats import shapiro\n",
    "import nbformat\n",
    "import warnings\n",
    "import joblib\n",
    "warnings.filterwarnings('ignore')"
   ]
  },
  {
   "cell_type": "markdown",
   "metadata": {},
   "source": [
    "\n",
    "----------------------------\n",
    "<a id=\"4\"></a>\n",
    "# <p style=\"background-color:darkorange; color:white; font-family:calibri; font-size:130%; color:white; text-align:left; border-radius:8px; padding:10px\">5 : Dataset Preparation</p>\n",
    "\n",
    "⬆️ [Go to Contents](#contents_tabel)\n",
    "\n",
    "----------------------------"
   ]
  },
  {
   "cell_type": "code",
   "execution_count": 5,
   "metadata": {},
   "outputs": [
    {
     "name": "stdout",
     "output_type": "stream",
     "text": [
      "Data loaded successfully. Here's a preview:\n"
     ]
    }
   ],
   "source": [
    "# Section: Data Loading\n",
    "file_path = 'medical.csv'\n",
    "df = pd.read_csv(file_path)\n",
    "print(\"Data loaded successfully. Here's a preview:\")\n"
   ]
  },
  {
   "cell_type": "code",
   "execution_count": 6,
   "metadata": {},
   "outputs": [
    {
     "data": {
      "text/html": [
       "<div>\n",
       "<style scoped>\n",
       "    .dataframe tbody tr th:only-of-type {\n",
       "        vertical-align: middle;\n",
       "    }\n",
       "\n",
       "    .dataframe tbody tr th {\n",
       "        vertical-align: top;\n",
       "    }\n",
       "\n",
       "    .dataframe thead th {\n",
       "        text-align: right;\n",
       "    }\n",
       "</style>\n",
       "<table border=\"1\" class=\"dataframe\">\n",
       "  <thead>\n",
       "    <tr style=\"text-align: right;\">\n",
       "      <th></th>\n",
       "      <th>age</th>\n",
       "      <th>sex</th>\n",
       "      <th>bmi</th>\n",
       "      <th>children</th>\n",
       "      <th>smoker</th>\n",
       "      <th>region</th>\n",
       "      <th>charges</th>\n",
       "    </tr>\n",
       "  </thead>\n",
       "  <tbody>\n",
       "    <tr>\n",
       "      <th>0</th>\n",
       "      <td>19</td>\n",
       "      <td>female</td>\n",
       "      <td>27.900</td>\n",
       "      <td>0</td>\n",
       "      <td>yes</td>\n",
       "      <td>southwest</td>\n",
       "      <td>16884.92400</td>\n",
       "    </tr>\n",
       "    <tr>\n",
       "      <th>1</th>\n",
       "      <td>18</td>\n",
       "      <td>male</td>\n",
       "      <td>33.770</td>\n",
       "      <td>1</td>\n",
       "      <td>no</td>\n",
       "      <td>southeast</td>\n",
       "      <td>1725.55230</td>\n",
       "    </tr>\n",
       "    <tr>\n",
       "      <th>2</th>\n",
       "      <td>28</td>\n",
       "      <td>male</td>\n",
       "      <td>33.000</td>\n",
       "      <td>3</td>\n",
       "      <td>no</td>\n",
       "      <td>southeast</td>\n",
       "      <td>4449.46200</td>\n",
       "    </tr>\n",
       "    <tr>\n",
       "      <th>3</th>\n",
       "      <td>33</td>\n",
       "      <td>male</td>\n",
       "      <td>22.705</td>\n",
       "      <td>0</td>\n",
       "      <td>no</td>\n",
       "      <td>northwest</td>\n",
       "      <td>21984.47061</td>\n",
       "    </tr>\n",
       "    <tr>\n",
       "      <th>4</th>\n",
       "      <td>32</td>\n",
       "      <td>male</td>\n",
       "      <td>28.880</td>\n",
       "      <td>0</td>\n",
       "      <td>no</td>\n",
       "      <td>northwest</td>\n",
       "      <td>3866.85520</td>\n",
       "    </tr>\n",
       "  </tbody>\n",
       "</table>\n",
       "</div>"
      ],
      "text/plain": [
       "   age     sex     bmi  children smoker     region      charges\n",
       "0   19  female  27.900         0    yes  southwest  16884.92400\n",
       "1   18    male  33.770         1     no  southeast   1725.55230\n",
       "2   28    male  33.000         3     no  southeast   4449.46200\n",
       "3   33    male  22.705         0     no  northwest  21984.47061\n",
       "4   32    male  28.880         0     no  northwest   3866.85520"
      ]
     },
     "execution_count": 6,
     "metadata": {},
     "output_type": "execute_result"
    }
   ],
   "source": [
    "df.head()"
   ]
  },
  {
   "cell_type": "markdown",
   "metadata": {},
   "source": [
    "Our objective is to find a way to estimate the value in the \"charges\" column using the values in the other columns. If we can do so for the historical data, then we should able to estimate charges for new customers too, simply by asking for information like their age, sex, BMI, no. of children, smoking habits and region.\n",
    "\n",
    "Let's check the data type for each column."
   ]
  },
  {
   "cell_type": "code",
   "execution_count": 4,
   "metadata": {},
   "outputs": [
    {
     "name": "stdout",
     "output_type": "stream",
     "text": [
      "<class 'pandas.core.frame.DataFrame'>\n",
      "RangeIndex: 1338 entries, 0 to 1337\n",
      "Data columns (total 7 columns):\n",
      " #   Column    Non-Null Count  Dtype  \n",
      "---  ------    --------------  -----  \n",
      " 0   age       1338 non-null   int64  \n",
      " 1   sex       1338 non-null   object \n",
      " 2   bmi       1338 non-null   float64\n",
      " 3   children  1338 non-null   int64  \n",
      " 4   smoker    1338 non-null   object \n",
      " 5   region    1338 non-null   object \n",
      " 6   charges   1338 non-null   float64\n",
      "dtypes: float64(2), int64(2), object(3)\n",
      "memory usage: 73.3+ KB\n"
     ]
    }
   ],
   "source": [
    "df.info()"
   ]
  },
  {
   "cell_type": "markdown",
   "metadata": {},
   "source": [
    "\n",
    "The dataset contains 1338 rows and 7 columns. Each row of the dataset contains information about one customer. \n",
    "\n",
    "Looks like \"age\", \"children\", \"bmi\" ([body mass index](https://en.wikipedia.org/wiki/Body_mass_index)) and \"charges\" are numbers, whereas \"sex\", \"smoker\" and \"region\" are strings (possibly categories). None of the columns contain any missing values, which saves us a fair bit of work!"
   ]
  }
 ],
 "metadata": {
  "kernelspec": {
   "display_name": "Python 3",
   "language": "python",
   "name": "python3"
  },
  "language_info": {
   "codemirror_mode": {
    "name": "ipython",
    "version": 3
   },
   "file_extension": ".py",
   "mimetype": "text/x-python",
   "name": "python",
   "nbconvert_exporter": "python",
   "pygments_lexer": "ipython3",
   "version": "3.12.4"
  }
 },
 "nbformat": 4,
 "nbformat_minor": 2
}
